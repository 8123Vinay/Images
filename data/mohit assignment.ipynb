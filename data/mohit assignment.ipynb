{
 "cells": [
  {
   "cell_type": "code",
   "execution_count": 1,
   "metadata": {},
   "outputs": [],
   "source": [
    "import xarray\n",
    "import gsw\n",
    "import numpy as np\n",
    "import matplotlib.pyplot as plt\n",
    "import math"
   ]
  },
  {
   "cell_type": "markdown",
   "metadata": {},
   "source": [
    "<h3>Lattitude from -89.5 to 89.5 with 0.5 difference </h3>\n",
    "<h3>Longitude from -179.5 to 179.5 with 0.5 difference</h3>"
   ]
  },
  {
   "cell_type": "code",
   "execution_count": 2,
   "metadata": {},
   "outputs": [],
   "source": [
    "lat_array = np.linspace(-89.75, 89.75, 360)     \n",
    "lon_array = np.linspace(-179.75, 179.75, 720)"
   ]
  },
  {
   "cell_type": "markdown",
   "metadata": {},
   "source": [
    "<h3> Parameters of Fourier series model (FSM) SLA </h3>"
   ]
  },
  {
   "cell_type": "code",
   "execution_count": 3,
   "metadata": {},
   "outputs": [],
   "source": [
    "omega = 7.2921*(10**-5)     #Angular speed of Earth\n",
    "\n",
    "f=2*omega*np.sin(np.deg2rad(lat_array))    #Corolis Parameter\n",
    "g = 9.8             #Acceleration due to gravity\n",
    "radius = 6370e3     #Radius of Earth\n"
   ]
  },
  {
   "cell_type": "markdown",
   "metadata": {},
   "source": [
    "<h3> dy and dx of Fourier series model </h3>"
   ]
  },
  {
   "cell_type": "code",
   "execution_count": 4,
   "metadata": {},
   "outputs": [],
   "source": [
    "dlat = 2*np.pi*(0.5/360)*radius       \n",
    "dlon = 2*np.pi*radius*(0.5/360)*np.cos(np.deg2rad(lat_array)).reshape(360,1)* np.ones((360,720))  \n"
   ]
  },
  {
   "cell_type": "markdown",
   "metadata": {},
   "source": [
    "<h3>We are taking 5 years data of every months and storing in a variable  </h3>"
   ]
  },
  {
   "cell_type": "code",
   "execution_count": 7,
   "metadata": {},
   "outputs": [],
   "source": [
    "data_array = []\n",
    "steps = (slice(None, None, 15), slice(None, None, 15))     #spacing between Arrows\n",
    "\n",
    "#Combining 5 year data in one list\n",
    "\n",
    "for year in range(2010,2015):\n",
    "    for month in range(1,13):\n",
    "        if month<10:\n",
    "            mon = '0'+str(month)\n",
    "        else:\n",
    "            mon = str(month)\n",
    "        data = xarray.open_dataset('SEA_SURFACE_HEIGHT_mon_mean_{y}-{m}_ECCO_V4r4_latlon_0p50deg.nc'.format(y=year,m=mon))\n",
    "        new_data = data.loc[dict(longitude=slice(-180,180), latitude=slice(-90,90))].SSH\n",
    "        data_array.append(new_data[0])\n",
    "data_arr=np.array(data_array)"
   ]
  },
  {
   "cell_type": "markdown",
   "metadata": {},
   "source": [
    "<h3> getting average of each months of 5 years </h3>\n"
   ]
  },
  {
   "cell_type": "code",
   "execution_count": 8,
   "metadata": {},
   "outputs": [],
   "source": [
    "for i in range(1,5):\n",
    "    if i==1:\n",
    "        yearly_sum = data_arr[12*(i-1):12*(i),:,:]\n",
    "    else:\n",
    "        yearly_sum = yearly_sum + data_arr[12*(i-1):12*(i),:,:]\n",
    "        \n",
    "yearly_avg = yearly_sum/5"
   ]
  },
  {
   "cell_type": "markdown",
   "metadata": {},
   "source": [
    "<h3>  Lattitude and Longitude for Graph Axis </h3>"
   ]
  },
  {
   "cell_type": "code",
   "execution_count": 9,
   "metadata": {},
   "outputs": [],
   "source": [
    "lat_grid = np.linspace(-89.75, 89.75, 360).reshape(360,1)* np.ones((360,720))\n",
    "lon_grid = np.linspace(-179.75, 179.75, 720).reshape(1,720)* np.ones((360,720))\n"
   ]
  },
  {
   "cell_type": "markdown",
   "metadata": {},
   "source": [
    "<h3> differnce in the sea surface height along lattitude and longitude (∂ζ)  </h3>"
   ]
  },
  {
   "cell_type": "code",
   "execution_count": 10,
   "metadata": {},
   "outputs": [
    {
     "name": "stdout",
     "output_type": "stream",
     "text": [
      "(360, 721)\n",
      "(360, 721)\n"
     ]
    }
   ],
   "source": [
    "for i in range (2):\n",
    " yav_data=yearly_avg[i]\n",
    "\n",
    " reshaped_arr = yav_data[:,0].reshape(len(yav_data[:,0]),1)\n",
    " lon_data_proc = np.concatenate((yav_data, reshaped_arr), axis=1)\n",
    " lon_diff_data = np.diff(lon_data_proc, axis=1)\n",
    " print(lon_data_proc.shape)\n",
    "\n",
    "\n",
    " lat_data_proc = np.concatenate((yav_data, yav_data[0,:].reshape(1,len(yav_data[0,:]))), axis=0)\n",
    " lat_diff_data = np.diff(lat_data_proc, axis=0)\n"
   ]
  },
  {
   "cell_type": "markdown",
   "metadata": {},
   "source": [
    "<h3> surface geostrophic current\n",
    "  </h3>"
   ]
  },
  {
   "cell_type": "code",
   "execution_count": 11,
   "metadata": {},
   "outputs": [],
   "source": [
    " ug = (-g/f.reshape(len(f),1))*(lat_diff_data/dlat)   # ug = (−g/f)(∂ζ/∂y)\n",
    " vg = (g/f.reshape(len(f),1))*(lon_diff_data/dlon)    # vg = (g/f)(∂ζ/∂x)\n"
   ]
  },
  {
   "cell_type": "markdown",
   "metadata": {},
   "source": [
    "<h3>Magnitude of ug and vg </h3>\n",
    "\n",
    "<h3>Normalization of ug and vg </h3>"
   ]
  },
  {
   "cell_type": "code",
   "execution_count": 12,
   "metadata": {},
   "outputs": [],
   "source": [
    " magnitude_arr = np.sqrt(ug**2 + vg**2)\n",
    " magnitude_arr[magnitude_arr == 0] = 'nan'\n",
    " \n",
    " ug_unit = ug/magnitude_arr\n",
    " vg_unit = vg/magnitude_arr"
   ]
  },
  {
   "cell_type": "markdown",
   "metadata": {},
   "source": [
    "<h3>Ploting the countor plot  </h3>\n"
   ]
  },
  {
   "cell_type": "code",
   "execution_count": 14,
   "metadata": {},
   "outputs": [
    {
     "ename": "SyntaxError",
     "evalue": "invalid syntax (3448060470.py, line 6)",
     "output_type": "error",
     "traceback": [
      "\u001b[0;36m  File \u001b[0;32m\"/var/folders/dc/0kzzl7l529sd0xhyc7mqqfwh0000gq/T/ipykernel_20691/3448060470.py\"\u001b[0;36m, line \u001b[0;32m6\u001b[0m\n\u001b[0;31m    plt.contourf(lon_grid, lat_grid, yav_data,levels=level,,cmap=plt.get_cmap('hsv'))\u001b[0m\n\u001b[0m                                                           ^\u001b[0m\n\u001b[0;31mSyntaxError\u001b[0m\u001b[0;31m:\u001b[0m invalid syntax\n"
     ]
    }
   ],
   "source": [
    "plt.figure(figsize=(14,8))\n",
    "level=np.linspace(-1.5,1,20)\n",
    "\n",
    "\n",
    "\n",
    "plt.contourf(lon_grid, lat_grid, yav_data,levels=level,,cmap=plt.get_cmap('hsv')) \n",
    "plt.colorbar()\n",
    "\n",
    "\n",
    "\n",
    "plt.quiver(lon_grid[steps], lat_grid[steps],\n",
    "                 vg_unit[steps], ug_unit[steps],\n",
    "                 color='black')\n",
    "for i in range(360):\n",
    "    for j in range (720):\n",
    "        if(i==359 or j==719):\n",
    "            ug[i,j]=math.nan\n",
    "            vg[i,j]=math.nan\n",
    "\n",
    "plt.show()\n",
    "\n"
   ]
  },
  {
   "cell_type": "code",
   "execution_count": null,
   "metadata": {},
   "outputs": [],
   "source": []
  }
 ],
 "metadata": {
  "kernelspec": {
   "display_name": "Python 3 (ipykernel)",
   "language": "python",
   "name": "python3"
  },
  "language_info": {
   "codemirror_mode": {
    "name": "ipython",
    "version": 3
   },
   "file_extension": ".py",
   "mimetype": "text/x-python",
   "name": "python",
   "nbconvert_exporter": "python",
   "pygments_lexer": "ipython3",
   "version": "3.9.7"
  }
 },
 "nbformat": 4,
 "nbformat_minor": 2
}
