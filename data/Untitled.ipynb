{
 "cells": [
  {
   "cell_type": "code",
   "execution_count": 4,
   "id": "4775d6d6",
   "metadata": {},
   "outputs": [],
   "source": [
    "import xarray\n",
    "import numpy as np\n",
    "import matplotlib.pyplot as plt"
   ]
  },
  {
   "cell_type": "code",
   "execution_count": 5,
   "id": "7378ed32",
   "metadata": {},
   "outputs": [
    {
     "ename": "NameError",
     "evalue": "name 'data' is not defined",
     "output_type": "error",
     "traceback": [
      "\u001b[0;31m---------------------------------------------------------------------------\u001b[0m",
      "\u001b[0;31mNameError\u001b[0m                                 Traceback (most recent call last)",
      "\u001b[0;32m/var/folders/dc/0kzzl7l529sd0xhyc7mqqfwh0000gq/T/ipykernel_8123/2907201276.py\u001b[0m in \u001b[0;36m<module>\u001b[0;34m\u001b[0m\n\u001b[1;32m     12\u001b[0m             \u001b[0mdata\u001b[0m \u001b[0;34m=\u001b[0m \u001b[0mxarray\u001b[0m\u001b[0;34m.\u001b[0m\u001b[0mopen_dataset\u001b[0m\u001b[0;34m(\u001b[0m\u001b[0;34m'SEA_SURFACE_HEIGHT_mon_mean_{y}-{m}_ECCO_V4r4_latlon_0p50deg.nc'\u001b[0m\u001b[0;34m.\u001b[0m\u001b[0mformat\u001b[0m\u001b[0;34m(\u001b[0m\u001b[0my\u001b[0m\u001b[0;34m=\u001b[0m\u001b[0myear\u001b[0m\u001b[0;34m,\u001b[0m\u001b[0mm\u001b[0m\u001b[0;34m=\u001b[0m\u001b[0mmon\u001b[0m\u001b[0;34m)\u001b[0m\u001b[0;34m)\u001b[0m\u001b[0;34m\u001b[0m\u001b[0;34m\u001b[0m\u001b[0m\n\u001b[1;32m     13\u001b[0m \u001b[0;34m\u001b[0m\u001b[0m\n\u001b[0;32m---> 14\u001b[0;31m         \u001b[0mdata_new\u001b[0m \u001b[0;34m=\u001b[0m \u001b[0mdata\u001b[0m\u001b[0;34m.\u001b[0m\u001b[0mloc\u001b[0m\u001b[0;34m[\u001b[0m\u001b[0mdict\u001b[0m\u001b[0;34m(\u001b[0m\u001b[0mlongitude\u001b[0m\u001b[0;34m=\u001b[0m\u001b[0mslice\u001b[0m\u001b[0;34m(\u001b[0m\u001b[0;34m-\u001b[0m\u001b[0;36m180\u001b[0m\u001b[0;34m,\u001b[0m \u001b[0;36m180\u001b[0m\u001b[0;34m)\u001b[0m\u001b[0;34m,\u001b[0m \u001b[0mlatitude\u001b[0m\u001b[0;34m=\u001b[0m\u001b[0mslice\u001b[0m\u001b[0;34m(\u001b[0m\u001b[0;34m-\u001b[0m\u001b[0;36m90\u001b[0m\u001b[0;34m,\u001b[0m \u001b[0;36m90\u001b[0m\u001b[0;34m)\u001b[0m\u001b[0;34m)\u001b[0m\u001b[0;34m]\u001b[0m\u001b[0;34m.\u001b[0m\u001b[0mSSH\u001b[0m\u001b[0;34m\u001b[0m\u001b[0;34m\u001b[0m\u001b[0m\n\u001b[0m\u001b[1;32m     15\u001b[0m         \u001b[0mdata_list\u001b[0m\u001b[0;34m.\u001b[0m\u001b[0mappend\u001b[0m\u001b[0;34m(\u001b[0m\u001b[0mdata_new\u001b[0m\u001b[0;34m[\u001b[0m\u001b[0;36m0\u001b[0m\u001b[0;34m]\u001b[0m\u001b[0;34m)\u001b[0m\u001b[0;34m\u001b[0m\u001b[0;34m\u001b[0m\u001b[0m\n\u001b[1;32m     16\u001b[0m \u001b[0;34m\u001b[0m\u001b[0m\n",
      "\u001b[0;31mNameError\u001b[0m: name 'data' is not defined"
     ]
    }
   ],
   "source": [
    "year=2012;\n",
    "month=11;\n",
    "# sea=xarray.open_dataset('SEA_SURFACE_HEIGHT_mon_mean_{y}-{m}_ECCO_V4r4_latlon_0p50deg.nc'.format(y=year,m=mon))\n",
    "# print(sea.loc[dict(longitude=slice(-10, 10), latitude=slice(-40, 40))].SSH)\n",
    "data_list = []\n",
    "for year in range(2010,2015):\n",
    "    for month in range(1,13):\n",
    "        if month<10:\n",
    "            mon = '0'+str(month)\n",
    "        else:\n",
    "            mon = str(month)\n",
    "            data = xarray.open_dataset('SEA_SURFACE_HEIGHT_mon_mean_{y}-{m}_ECCO_V4r4_latlon_0p50deg.nc'.format(y=year,m=mon))\n",
    "           \n",
    "        data_new = data.loc[dict(longitude=slice(-180, 180), latitude=slice(-90, 90))].SSH\n",
    "        data_list.append(data_new[0])\n",
    "\n",
    "\n",
    "\n"
   ]
  },
  {
   "cell_type": "code",
   "execution_count": 6,
   "id": "9eae54ed",
   "metadata": {},
   "outputs": [
    {
     "ename": "NameError",
     "evalue": "name 'data_arr' is not defined",
     "output_type": "error",
     "traceback": [
      "\u001b[0;31m---------------------------------------------------------------------------\u001b[0m",
      "\u001b[0;31mNameError\u001b[0m                                 Traceback (most recent call last)",
      "\u001b[0;32m/var/folders/dc/0kzzl7l529sd0xhyc7mqqfwh0000gq/T/ipykernel_8123/848502984.py\u001b[0m in \u001b[0;36m<module>\u001b[0;34m\u001b[0m\n\u001b[1;32m      1\u001b[0m \u001b[0;32mfor\u001b[0m \u001b[0mi\u001b[0m \u001b[0;32min\u001b[0m \u001b[0mrange\u001b[0m\u001b[0;34m(\u001b[0m\u001b[0;36m1\u001b[0m\u001b[0;34m,\u001b[0m\u001b[0;36m6\u001b[0m\u001b[0;34m)\u001b[0m\u001b[0;34m:\u001b[0m\u001b[0;34m\u001b[0m\u001b[0;34m\u001b[0m\u001b[0m\n\u001b[1;32m      2\u001b[0m     \u001b[0;32mif\u001b[0m \u001b[0mi\u001b[0m\u001b[0;34m==\u001b[0m\u001b[0;36m1\u001b[0m\u001b[0;34m:\u001b[0m\u001b[0;34m\u001b[0m\u001b[0;34m\u001b[0m\u001b[0m\n\u001b[0;32m----> 3\u001b[0;31m         \u001b[0myearly_summed_data\u001b[0m \u001b[0;34m=\u001b[0m \u001b[0mdata_arr\u001b[0m\u001b[0;34m[\u001b[0m\u001b[0;36m12\u001b[0m\u001b[0;34m*\u001b[0m\u001b[0;34m(\u001b[0m\u001b[0mi\u001b[0m\u001b[0;34m-\u001b[0m\u001b[0;36m1\u001b[0m\u001b[0;34m)\u001b[0m\u001b[0;34m:\u001b[0m\u001b[0;36m12\u001b[0m\u001b[0;34m*\u001b[0m\u001b[0;34m(\u001b[0m\u001b[0mi\u001b[0m\u001b[0;34m)\u001b[0m\u001b[0;34m,\u001b[0m\u001b[0;34m:\u001b[0m\u001b[0;34m,\u001b[0m\u001b[0;34m:\u001b[0m\u001b[0;34m]\u001b[0m\u001b[0;34m\u001b[0m\u001b[0;34m\u001b[0m\u001b[0m\n\u001b[0m\u001b[1;32m      4\u001b[0m     \u001b[0;32melse\u001b[0m\u001b[0;34m:\u001b[0m\u001b[0;34m\u001b[0m\u001b[0;34m\u001b[0m\u001b[0m\n\u001b[1;32m      5\u001b[0m         \u001b[0myearly_summed_data\u001b[0m \u001b[0;34m=\u001b[0m \u001b[0myearly_summed_data\u001b[0m \u001b[0;34m+\u001b[0m \u001b[0mdata_arr\u001b[0m\u001b[0;34m[\u001b[0m\u001b[0;36m12\u001b[0m\u001b[0;34m*\u001b[0m\u001b[0;34m(\u001b[0m\u001b[0mi\u001b[0m\u001b[0;34m-\u001b[0m\u001b[0;36m1\u001b[0m\u001b[0;34m)\u001b[0m\u001b[0;34m:\u001b[0m\u001b[0;36m12\u001b[0m\u001b[0;34m*\u001b[0m\u001b[0;34m(\u001b[0m\u001b[0mi\u001b[0m\u001b[0;34m)\u001b[0m\u001b[0;34m,\u001b[0m\u001b[0;34m:\u001b[0m\u001b[0;34m,\u001b[0m\u001b[0;34m:\u001b[0m\u001b[0;34m]\u001b[0m\u001b[0;34m\u001b[0m\u001b[0;34m\u001b[0m\u001b[0m\n",
      "\u001b[0;31mNameError\u001b[0m: name 'data_arr' is not defined"
     ]
    }
   ],
   "source": [
    "\n",
    "for i in range(1,6):\n",
    "    if i==1:\n",
    "        yearly_summed_data = data_arr[12*(i-1):12*(i),:,:]\n",
    "    else:\n",
    "        yearly_summed_data = yearly_summed_data + data_arr[12*(i-1):12*(i),:,:]\n",
    "        \n",
    "yearly_avg_data = yearly_summed_data/5\n",
    "\n",
    "# print(np.min(data_arr),np.max(data_arr))\n",
    "# print(np.min(yearly_summed_data),np.max(yearly_summed_data))\n",
    "# print(np.min(yearly_avg_data),np.max(yearly_avg_data))\n",
    "# print(yearly_summed_data.shape)\n",
    "# print(yearly_avg_data.shape)"
   ]
  },
  {
   "cell_type": "code",
   "execution_count": 7,
   "id": "1727cd7d",
   "metadata": {},
   "outputs": [
    {
     "ename": "NameError",
     "evalue": "name 'yearly_avg_data' is not defined",
     "output_type": "error",
     "traceback": [
      "\u001b[0;31m---------------------------------------------------------------------------\u001b[0m",
      "\u001b[0;31mNameError\u001b[0m                                 Traceback (most recent call last)",
      "\u001b[0;32m/var/folders/dc/0kzzl7l529sd0xhyc7mqqfwh0000gq/T/ipykernel_8123/1801256282.py\u001b[0m in \u001b[0;36m<module>\u001b[0;34m\u001b[0m\n\u001b[0;32m----> 1\u001b[0;31m \u001b[0myav_data\u001b[0m \u001b[0;34m=\u001b[0m \u001b[0myearly_avg_data\u001b[0m\u001b[0;34m[\u001b[0m\u001b[0;36m7\u001b[0m\u001b[0;34m]\u001b[0m\u001b[0;34m\u001b[0m\u001b[0;34m\u001b[0m\u001b[0m\n\u001b[0m\u001b[1;32m      2\u001b[0m \u001b[0;31m# print(\"yav\",yav_data)\u001b[0m\u001b[0;34m\u001b[0m\u001b[0;34m\u001b[0m\u001b[0m\n\u001b[1;32m      3\u001b[0m \u001b[0;34m\u001b[0m\u001b[0m\n\u001b[1;32m      4\u001b[0m \u001b[0;31m# print(np.max((yearly_avg_data[7]==yearly_avg_data[11])*1))\u001b[0m\u001b[0;34m\u001b[0m\u001b[0;34m\u001b[0m\u001b[0m\n\u001b[1;32m      5\u001b[0m \u001b[0myav_data\u001b[0m\u001b[0;34m.\u001b[0m\u001b[0mshape\u001b[0m\u001b[0;34m\u001b[0m\u001b[0;34m\u001b[0m\u001b[0m\n",
      "\u001b[0;31mNameError\u001b[0m: name 'yearly_avg_data' is not defined"
     ]
    }
   ],
   "source": [
    "yav_data = yearly_avg_data[7]\n",
    "# print(\"yav\",yav_data)\n",
    "\n",
    "# print(np.max((yearly_avg_data[7]==yearly_avg_data[11])*1))\n",
    "yav_data.shape\n",
    "yav_data[:,0].shape\n",
    "\n",
    "\n",
    "\n",
    "\n",
    "reshaped_arr = yav_data[:,0].reshape(len(yav_data[:,0]),1)\n",
    "lon_data_proc = np.concatenate((yav_data, reshaped_arr), axis=1)\n",
    "lon_diff_data = np.diff(lon_data_proc, axis=1)\n",
    "# print(lon_data_proc.shape)\n",
    "# print(lon_diff_data,'lon_diff')\n",
    "\n",
    "lat_data_proc = np.concatenate((yav_data, yav_data[0,:].reshape(1,len(yav_data[0,:]))), axis=0)\n",
    "lat_diff_data = np.diff(lat_data_proc, axis=0)\n",
    "# print(lon_data_proc)\n",
    "\n",
    "\n",
    "# for i in range(360):\n",
    "#     for j in range(720):\n",
    "#         print(lat_diff_data[i,j])"
   ]
  },
  {
   "cell_type": "code",
   "execution_count": null,
   "id": "525ba08a",
   "metadata": {},
   "outputs": [],
   "source": [
    "\n",
    "\n"
   ]
  },
  {
   "cell_type": "code",
   "execution_count": 8,
   "id": "39faa19d",
   "metadata": {},
   "outputs": [
    {
     "name": "stdout",
     "output_type": "stream",
     "text": [
      "242.6196311236914\n"
     ]
    },
    {
     "ename": "NameError",
     "evalue": "name 'lat_diff_data' is not defined",
     "output_type": "error",
     "traceback": [
      "\u001b[0;31m---------------------------------------------------------------------------\u001b[0m",
      "\u001b[0;31mNameError\u001b[0m                                 Traceback (most recent call last)",
      "\u001b[0;32m/var/folders/dc/0kzzl7l529sd0xhyc7mqqfwh0000gq/T/ipykernel_8123/1844084659.py\u001b[0m in \u001b[0;36m<module>\u001b[0;34m\u001b[0m\n\u001b[1;32m     45\u001b[0m \u001b[0;34m\u001b[0m\u001b[0m\n\u001b[1;32m     46\u001b[0m \u001b[0mprint\u001b[0m\u001b[0;34m(\u001b[0m\u001b[0mnp\u001b[0m\u001b[0;34m.\u001b[0m\u001b[0mmin\u001b[0m\u001b[0;34m(\u001b[0m\u001b[0mY_data2\u001b[0m\u001b[0;34m)\u001b[0m\u001b[0;34m)\u001b[0m\u001b[0;34m\u001b[0m\u001b[0;34m\u001b[0m\u001b[0m\n\u001b[0;32m---> 47\u001b[0;31m \u001b[0mlat_grad\u001b[0m \u001b[0;34m=\u001b[0m \u001b[0;34m(\u001b[0m\u001b[0mg\u001b[0m\u001b[0;34m/\u001b[0m\u001b[0mf\u001b[0m\u001b[0;34m.\u001b[0m\u001b[0mreshape\u001b[0m\u001b[0;34m(\u001b[0m\u001b[0mlen\u001b[0m\u001b[0;34m(\u001b[0m\u001b[0mf\u001b[0m\u001b[0;34m)\u001b[0m\u001b[0;34m,\u001b[0m\u001b[0;36m1\u001b[0m\u001b[0;34m)\u001b[0m\u001b[0;34m)\u001b[0m\u001b[0;34m*\u001b[0m\u001b[0;34m(\u001b[0m\u001b[0mlat_diff_data\u001b[0m\u001b[0;34m/\u001b[0m\u001b[0mdlat\u001b[0m\u001b[0;34m)\u001b[0m   \u001b[0;31m#.reshape(len(lat_list),1))\u001b[0m\u001b[0;34m\u001b[0m\u001b[0;34m\u001b[0m\u001b[0m\n\u001b[0m\u001b[1;32m     48\u001b[0m \u001b[0mlon_grad\u001b[0m \u001b[0;34m=\u001b[0m \u001b[0;34m(\u001b[0m\u001b[0;34m-\u001b[0m\u001b[0mg\u001b[0m\u001b[0;34m/\u001b[0m\u001b[0mf\u001b[0m\u001b[0;34m.\u001b[0m\u001b[0mreshape\u001b[0m\u001b[0;34m(\u001b[0m\u001b[0mlen\u001b[0m\u001b[0;34m(\u001b[0m\u001b[0mf\u001b[0m\u001b[0;34m)\u001b[0m\u001b[0;34m,\u001b[0m\u001b[0;36m1\u001b[0m\u001b[0;34m)\u001b[0m\u001b[0;34m)\u001b[0m\u001b[0;34m*\u001b[0m\u001b[0;34m(\u001b[0m\u001b[0mlon_diff_data\u001b[0m\u001b[0;34m/\u001b[0m\u001b[0mY_data2\u001b[0m\u001b[0;34m)\u001b[0m \u001b[0;31m#.reshape(1,len(lon_list)))\u001b[0m\u001b[0;34m\u001b[0m\u001b[0;34m\u001b[0m\u001b[0m\n\u001b[1;32m     49\u001b[0m \u001b[0;34m\u001b[0m\u001b[0m\n",
      "\u001b[0;31mNameError\u001b[0m: name 'lat_diff_data' is not defined"
     ]
    }
   ],
   "source": [
    "import numpy as np\n",
    "import matplotlib.pyplot as plt\n",
    "import math \n",
    "\n",
    "conversion_factor=111209;\n",
    "\n",
    "lat_list = np.linspace(-89.75, 89.75, 360)\n",
    "lon_list = np.linspace(-179.75, 179.75, 720);\n",
    "\n",
    "X,Y = np.meshgrid(lat_list,lon_list,indexing=\"ij\");\n",
    "Y1, X1 = np.meshgrid(lat_list,lon_list,indexing=\"ij\");\n",
    "\n",
    "\n",
    "\n",
    "\n",
    "\n",
    "\n",
    "Y_data = np.diff(Y, axis=1)\n",
    "reshaped_arr = Y_data[:,718].reshape(len(Y_data[:,718]),1)\n",
    "Y_data2 = np.concatenate((Y_data, reshaped_arr), axis=1)\n",
    "\n",
    "for i in range (0, 360, 1):\n",
    "    for j in range (0,720,1):\n",
    "        Y_data2[i,j]=Y_data2[i,j]*conversion_factor*np.cos(np.deg2rad(X[i,j]))\n",
    "\n",
    "\n",
    "\n",
    "\n",
    "\n",
    "# print(\"this is X=>\", X)\n",
    "\n",
    "\n",
    "        \n",
    "\n",
    "omega = 7.2921*(10**-5)\n",
    "\n",
    "f=2*omega*np.sin(np.deg2rad(lat_list))\n",
    "g = 9.8\n",
    "dlat = 0.5*(111209)\n",
    "# with conversion from deg to meter;\n",
    "\n",
    "\n",
    "# I have to change the dlat and dlon accordingly\n",
    "# print(\"this is Y2\",Y_data2)\n",
    "\n",
    "print(np.min(Y_data2))\n",
    "lat_grad = (g/f.reshape(len(f),1))*(lat_diff_data/dlat)   #.reshape(len(lat_list),1))\n",
    "lon_grad = (-g/f.reshape(len(f),1))*(lon_diff_data/Y_data2) #.reshape(1,len(lon_list)))\n",
    "\n",
    "for i in range (360):\n",
    "    for j in range (720):\n",
    "        if(i%2):\n",
    "            lat_grad[i,j]=math.nan\n",
    "            lon_grad[i,j]=math.nan\n",
    "      \n",
    "\n",
    "# for i in range (0, 360, 1):\n",
    "#     for j in range (0,720,1):\n",
    "#         print(lat_grad[i,j])\n",
    "\n",
    "\n",
    "# Z_lat = lat_grad\n",
    "# Z_lon = lon_grad\n",
    "\n",
    "# fig=plt.figure(figsize=(14,8))\n",
    "# cp = ax1.contourf(X1, Y1, Z_lon)\n",
    "# ax1.set_title('Filled Contours Plot')\n",
    "# ax1.set_xlabel('x (cm)')\n",
    "# ax1.set_ylabel('y (cm)')\n",
    "\n",
    "# ax2 = fig.add_subplot(1,2,2)\n",
    "# cp = ax2.contourf(X1, Y1, Z_lat)\n",
    "# ax2.set_title('Filled Contours Plot')\n",
    "# ax2.set_xlabel('x (cm)')\n",
    "# ax2.set_ylabel('y (cm)')"
   ]
  },
  {
   "cell_type": "code",
   "execution_count": 9,
   "id": "f228b4a0",
   "metadata": {},
   "outputs": [
    {
     "name": "stdout",
     "output_type": "stream",
     "text": [
      "[[-179.75 -179.25 -178.75 ...  178.75  179.25  179.75]\n",
      " [-179.75 -179.25 -178.75 ...  178.75  179.25  179.75]\n",
      " [-179.75 -179.25 -178.75 ...  178.75  179.25  179.75]\n",
      " ...\n",
      " [-179.75 -179.25 -178.75 ...  178.75  179.25  179.75]\n",
      " [-179.75 -179.25 -178.75 ...  178.75  179.25  179.75]\n",
      " [-179.75 -179.25 -178.75 ...  178.75  179.25  179.75]]\n",
      "[[-89.75 -89.75 -89.75 ... -89.75 -89.75 -89.75]\n",
      " [-89.25 -89.25 -89.25 ... -89.25 -89.25 -89.25]\n",
      " [-88.75 -88.75 -88.75 ... -88.75 -88.75 -88.75]\n",
      " ...\n",
      " [ 88.75  88.75  88.75 ...  88.75  88.75  88.75]\n",
      " [ 89.25  89.25  89.25 ...  89.25  89.25  89.25]\n",
      " [ 89.75  89.75  89.75 ...  89.75  89.75  89.75]]\n"
     ]
    },
    {
     "ename": "NameError",
     "evalue": "name 'lat_grad' is not defined",
     "output_type": "error",
     "traceback": [
      "\u001b[0;31m---------------------------------------------------------------------------\u001b[0m",
      "\u001b[0;31mNameError\u001b[0m                                 Traceback (most recent call last)",
      "\u001b[0;32m/var/folders/dc/0kzzl7l529sd0xhyc7mqqfwh0000gq/T/ipykernel_8123/1286725226.py\u001b[0m in \u001b[0;36m<module>\u001b[0;34m\u001b[0m\n\u001b[1;32m      5\u001b[0m \u001b[0;34m\u001b[0m\u001b[0m\n\u001b[1;32m      6\u001b[0m \u001b[0;34m\u001b[0m\u001b[0m\n\u001b[0;32m----> 7\u001b[0;31m \u001b[0max\u001b[0m\u001b[0;34m.\u001b[0m\u001b[0mquiver\u001b[0m\u001b[0;34m(\u001b[0m\u001b[0mlat_grad\u001b[0m\u001b[0;34m,\u001b[0m\u001b[0mlon_grad\u001b[0m\u001b[0;34m,\u001b[0m \u001b[0mY1\u001b[0m\u001b[0;34m,\u001b[0m \u001b[0mX1\u001b[0m\u001b[0;34m)\u001b[0m\u001b[0;34m;\u001b[0m\u001b[0;34m\u001b[0m\u001b[0;34m\u001b[0m\u001b[0m\n\u001b[0m\u001b[1;32m      8\u001b[0m \u001b[0max\u001b[0m\u001b[0;34m.\u001b[0m\u001b[0mquiver\u001b[0m\u001b[0;34m(\u001b[0m\u001b[0mX1\u001b[0m\u001b[0;34m,\u001b[0m \u001b[0mY1\u001b[0m\u001b[0;34m,\u001b[0m \u001b[0mlat_grad\u001b[0m\u001b[0;34m,\u001b[0m \u001b[0mlan_grad\u001b[0m\u001b[0;34m)\u001b[0m\u001b[0;34m;\u001b[0m\u001b[0;34m\u001b[0m\u001b[0;34m\u001b[0m\u001b[0m\n\u001b[1;32m      9\u001b[0m \u001b[0;31m# # print(lat_grad)\u001b[0m\u001b[0;34m\u001b[0m\u001b[0;34m\u001b[0m\u001b[0m\n",
      "\u001b[0;31mNameError\u001b[0m: name 'lat_grad' is not defined"
     ]
    },
    {
     "data": {
      "image/png": "[encoded data removed]",
      "text/plain": [
       "<Figure size 1440x864 with 1 Axes>"
      ]
     },
     "metadata": {
      "needs_background": "light"
     },
     "output_type": "display_data"
    }
   ],
   "source": [
    "fig, ax = plt.subplots(figsize =(20, 12))\n",
    "\n",
    "print(X1)\n",
    "print(Y1)\n",
    "\n",
    "\n",
    "ax.quiver(lat_grad,lon_grad, Y1, X1);\n",
    "ax.quiver(X1, Y1, lat_grad, lan_grad);\n",
    "# # print(lat_grad)\n",
    "# print(lon_grad)\n",
    "\n",
    "# print(lat_diff_data,\"this is\")\n",
    "# print(lat_grad,\"lat grad\")\n",
    " \n",
    "# print(lon_grad,\"lon_grad\")\n",
    "# ax.xaxis.set_ticks([])\n",
    "# ax.yaxis.set_ticks([])\n",
    "\n",
    "\n",
    " \n",
    "# show plot\n",
    "plt.show()"
   ]
  },
  {
   "cell_type": "code",
   "execution_count": null,
   "id": "6786b292",
   "metadata": {},
   "outputs": [],
   "source": []
  },
  {
   "cell_type": "code",
   "execution_count": null,
   "id": "51c4ea6f",
   "metadata": {},
   "outputs": [],
   "source": []
  }
 ],
 "metadata": {
  "kernelspec": {
   "display_name": "Python 3 (ipykernel)",
   "language": "python",
   "name": "python3"
  },
  "language_info": {
   "codemirror_mode": {
    "name": "ipython",
    "version": 3
   },
   "file_extension": ".py",
   "mimetype": "text/x-python",
   "name": "python",
   "nbconvert_exporter": "python",
   "pygments_lexer": "ipython3",
   "version": "3.9.7"
  }
 },
 "nbformat": 4,
 "nbformat_minor": 5
}
